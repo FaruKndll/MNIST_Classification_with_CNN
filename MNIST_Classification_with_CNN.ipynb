{
 "cells": [
  {
   "cell_type": "code",
   "execution_count": 1,
   "id": "50c32575-2bbc-47ae-906a-77ad4065f7d6",
   "metadata": {},
   "outputs": [],
   "source": [
    "import tensorflow as tf \n",
    "from tensorflow import keras\n",
    "import matplotlib.pyplot as plt\n",
    "from sklearn.model_selection import train_test_split\n",
    "import numpy as np"
   ]
  },
  {
   "cell_type": "code",
   "execution_count": 5,
   "id": "b9da0b9d-13d0-4fc5-8437-8dcd60628c84",
   "metadata": {},
   "outputs": [
    {
     "name": "stdout",
     "output_type": "stream",
     "text": [
      "Downloading data from https://storage.googleapis.com/tensorflow/tf-keras-datasets/mnist.npz\n",
      "11490434/11490434 [==============================] - 5s 0us/step\n"
     ]
    }
   ],
   "source": [
    "# MNIST veri setinin Keras kütüphanesi üzerinden yüklenmesi\n",
    "\n",
    "(x_train, y_train), (x_test, y_test) = keras.datasets.mnist.load_data()"
   ]
  },
  {
   "cell_type": "code",
   "execution_count": 7,
   "id": "1c3b5c3c-1d43-438c-acf2-3f271460e31b",
   "metadata": {},
   "outputs": [
    {
     "name": "stdout",
     "output_type": "stream",
     "text": [
      "Eğitim (Train) Verilerinin Sayısı ve boyutu = (60000, 28, 28, 1)\n",
      "Test verilerinin sayısı ve Boyutu = (10000, 28, 28, 1)\n"
     ]
    }
   ],
   "source": [
    "# Veri Ön İşleme - Adım 1 - Görüntülerin yeniden boyutlandırılması\n",
    "\n",
    "x_train = x_train.reshape(-1, 28, 28, 1) # -1: Görüntülerin toplam sayısı\n",
    "x_test = x_test.reshape(-1, 28, 28, 1)\n",
    "\n",
    "#Veri Ön İşleme - Adım 2 - Görüntülerin normalize edilmesi# -1: Görüntülerin toplam sayısı\n",
    "x_train = x_train.astype('float32') / 255.0\n",
    "x_test = x_test.astype('float32') / 255.0\n",
    "\n",
    "print(f\"Eğitim (Train) Verilerinin Sayısı ve boyutu = {x_train.shape}\")\n",
    "print(f\"Test verilerinin sayısı ve Boyutu = {x_test.shape}\")"
   ]
  },
  {
   "cell_type": "code",
   "execution_count": 15,
   "id": "1b194bf1-237f-4613-89b8-11ba07d5b15a",
   "metadata": {},
   "outputs": [
    {
     "data": {
      "text/plain": [
       "<matplotlib.image.AxesImage at 0x20a94569a80>"
      ]
     },
     "execution_count": 15,
     "metadata": {},
     "output_type": "execute_result"
    },
    {
     "data": {
      "image/png": "[encoded data removed]",
      "text/plain": [
       "<Figure size 640x480 with 1 Axes>"
      ]
     },
     "metadata": {},
     "output_type": "display_data"
    }
   ],
   "source": [
    "# Çıkış verisi olarak bu gıral görüntülerini hangi rakamı temsil ettiğini gösteren y verilerini düzeliyoruz\n",
    "\n",
    "plt.imshow(x_train[50000],cmap=\"gray\")"
   ]
  },
  {
   "cell_type": "code",
   "execution_count": 9,
   "id": "74a5f99c-e043-4466-baac-9ce50e1c380e",
   "metadata": {},
   "outputs": [
    {
     "data": {
      "text/plain": [
       "3"
      ]
     },
     "execution_count": 9,
     "metadata": {},
     "output_type": "execute_result"
    }
   ],
   "source": [
    "y_train[50000]"
   ]
  },
  {
   "cell_type": "code",
   "execution_count": 11,
   "id": "b66d00c7-7d19-42ef-a2c3-0cc335da220f",
   "metadata": {},
   "outputs": [],
   "source": [
    "#One-hot Encoding\n",
    "y_train = keras.utils.to_categorical(y_train,10)\n",
    "y_test = keras.utils.to_categorical(y_test,10)"
   ]
  },
  {
   "cell_type": "code",
   "execution_count": 13,
   "id": "bdceed34-4a42-42f5-a5dc-d18f166d06e5",
   "metadata": {},
   "outputs": [
    {
     "data": {
      "text/plain": [
       "array([0., 0., 0., 1., 0., 0., 0., 0., 0., 0.], dtype=float32)"
      ]
     },
     "execution_count": 13,
     "metadata": {},
     "output_type": "execute_result"
    }
   ],
   "source": [
    "y_train[50000]"
   ]
  },
  {
   "cell_type": "code",
   "execution_count": 21,
   "id": "ed747e07-e1c8-4200-ae59-8765f76e9714",
   "metadata": {},
   "outputs": [],
   "source": [
    " #Eğitim verilerinin %20'sinin doğrulama (validation) verisi olarak ayrılması Literatürde Data-split işlemi denilir.\n",
    "# bu işlem genellikle sklear altındaki train_test_split fonksiyonu ile yapılır\n",
    "\n",
    "X_train, X_val, y_train_split, y_val = train_test_split(\n",
    "    x_train, y_train,\n",
    "    test_size = 0.2, #validasyon verisi yüzde kaç olacak bilgisi burada\n",
    "    random_state = 42, # rastgelelik işlemini biraz sınırlı tutuyoruz\n",
    "    stratify = y_train # rastgele şekilde dağılım yaparken sınıf dengesini korur\n",
    "    )"
   ]
  },
  {
   "cell_type": "code",
   "execution_count": 37,
   "id": "34020cc6-cf04-4529-a68e-3c76f8cdd7d8",
   "metadata": {},
   "outputs": [],
   "source": [
    "#CNN tabanlı yapayzeka modelimizi oluşturuyoruz\n",
    "model = keras.Sequential([\n",
    "    #CNN ilk blok\n",
    "    keras.layers.Conv2D(32, (3,3), activation = 'relu', input_shape =(28,28,1)),\n",
    "    keras.layers.BatchNormalization(),\n",
    "    keras.layers.Conv2D(32, (3,3), activation = 'relu'),\n",
    "    keras.layers.BatchNormalization(),\n",
    "    keras.layers.MaxPooling2D((2,2)),\n",
    "    keras.layers.Dropout(0.25),\n",
    "\n",
    "    #CNN ikinci blok\n",
    "    keras.layers.Conv2D(64, (3,3), activation = 'relu'),\n",
    "    keras.layers.BatchNormalization(),\n",
    "    keras.layers.Conv2D(64, (3,3), activation = 'relu'),\n",
    "    keras.layers.BatchNormalization(),\n",
    "    keras.layers.MaxPooling2D((2,2)),\n",
    "    keras.layers.Dropout(0.25),\n",
    "\n",
    "    #YAPAY SİNİR AĞI TANIMLIYORUZ\n",
    "    keras.layers.Flatten(),\n",
    "    keras.layers.Dense(512,activation='relu'),\n",
    "    keras.layers.BatchNormalization(),\n",
    "    keras.layers.Dropout(0.5),\n",
    "    keras.layers.Dense(10, activation = 'softmax')\n",
    "])"
   ]
  },
  {
   "cell_type": "code",
   "execution_count": 47,
   "id": "2676f003-fcb6-4877-a9ee-e2a4d5b91d99",
   "metadata": {},
   "outputs": [],
   "source": [
    "#Modeli derliyoruz\n",
    "\n",
    "model.compile(\n",
    "    optimizer='adam',\n",
    "    loss = 'categorical_crossentropy',\n",
    "    metrics = ['accuracy']\n",
    ")"
   ]
  },
  {
   "cell_type": "code",
   "execution_count": 55,
   "id": "96906a6d-d3fd-4bc9-a6ee-6fa56381be21",
   "metadata": {},
   "outputs": [],
   "source": [
    "model_checkpoint = keras.callbacks.ModelCheckpoint(\n",
    "    'mnist_classifiction_cnn_model_h5',\n",
    "    monitor='val_accuracy',\n",
    "    save_best_only=True,\n",
    "    mode='max',\n",
    "    verbose=1\n",
    ")"
   ]
  },
  {
   "cell_type": "code",
   "execution_count": 59,
   "id": "3e6d3b04-6db4-4e9a-b32d-a9eb3adc8427",
   "metadata": {},
   "outputs": [
    {
     "name": "stdout",
     "output_type": "stream",
     "text": [
      "Epoch 1/10\n",
      "375/375 [==============================] - ETA: 0s - loss: 0.1967 - accuracy: 0.9417\n",
      "Epoch 1: val_accuracy improved from -inf to 0.71467, saving model to mnist_classifiction_cnn_model_h5\n"
     ]
    },
    {
     "name": "stderr",
     "output_type": "stream",
     "text": [
      "WARNING:absl:Found untraced functions such as _jit_compiled_convolution_op, _jit_compiled_convolution_op, _jit_compiled_convolution_op, _jit_compiled_convolution_op while saving (showing 4 of 4). These functions will not be directly callable after loading.\n"
     ]
    },
    {
     "name": "stdout",
     "output_type": "stream",
     "text": [
      "INFO:tensorflow:Assets written to: mnist_classifiction_cnn_model_h5\\assets\n"
     ]
    },
    {
     "name": "stderr",
     "output_type": "stream",
     "text": [
      "INFO:tensorflow:Assets written to: mnist_classifiction_cnn_model_h5\\assets\n"
     ]
    },
    {
     "name": "stdout",
     "output_type": "stream",
     "text": [
      "375/375 [==============================] - 34s 90ms/step - loss: 0.1967 - accuracy: 0.9417 - val_loss: 0.8517 - val_accuracy: 0.7147\n",
      "Epoch 2/10\n",
      "375/375 [==============================] - ETA: 0s - loss: 0.0641 - accuracy: 0.9802\n",
      "Epoch 2: val_accuracy improved from 0.71467 to 0.98817, saving model to mnist_classifiction_cnn_model_h5\n"
     ]
    },
    {
     "name": "stderr",
     "output_type": "stream",
     "text": [
      "WARNING:absl:Found untraced functions such as _jit_compiled_convolution_op, _jit_compiled_convolution_op, _jit_compiled_convolution_op, _jit_compiled_convolution_op while saving (showing 4 of 4). These functions will not be directly callable after loading.\n"
     ]
    },
    {
     "name": "stdout",
     "output_type": "stream",
     "text": [
      "INFO:tensorflow:Assets written to: mnist_classifiction_cnn_model_h5\\assets\n"
     ]
    },
    {
     "name": "stderr",
     "output_type": "stream",
     "text": [
      "INFO:tensorflow:Assets written to: mnist_classifiction_cnn_model_h5\\assets\n"
     ]
    },
    {
     "name": "stdout",
     "output_type": "stream",
     "text": [
      "375/375 [==============================] - 34s 90ms/step - loss: 0.0641 - accuracy: 0.9802 - val_loss: 0.0393 - val_accuracy: 0.9882\n",
      "Epoch 3/10\n",
      "375/375 [==============================] - ETA: 0s - loss: 0.0472 - accuracy: 0.9855\n",
      "Epoch 3: val_accuracy improved from 0.98817 to 0.99083, saving model to mnist_classifiction_cnn_model_h5\n"
     ]
    },
    {
     "name": "stderr",
     "output_type": "stream",
     "text": [
      "WARNING:absl:Found untraced functions such as _jit_compiled_convolution_op, _jit_compiled_convolution_op, _jit_compiled_convolution_op, _jit_compiled_convolution_op while saving (showing 4 of 4). These functions will not be directly callable after loading.\n"
     ]
    },
    {
     "name": "stdout",
     "output_type": "stream",
     "text": [
      "INFO:tensorflow:Assets written to: mnist_classifiction_cnn_model_h5\\assets\n"
     ]
    },
    {
     "name": "stderr",
     "output_type": "stream",
     "text": [
      "INFO:tensorflow:Assets written to: mnist_classifiction_cnn_model_h5\\assets\n"
     ]
    },
    {
     "name": "stdout",
     "output_type": "stream",
     "text": [
      "375/375 [==============================] - 34s 90ms/step - loss: 0.0472 - accuracy: 0.9855 - val_loss: 0.0310 - val_accuracy: 0.9908\n",
      "Epoch 4/10\n",
      "375/375 [==============================] - ETA: 0s - loss: 0.0391 - accuracy: 0.9874\n",
      "Epoch 4: val_accuracy did not improve from 0.99083\n",
      "375/375 [==============================] - 32s 86ms/step - loss: 0.0391 - accuracy: 0.9874 - val_loss: 0.0312 - val_accuracy: 0.9908\n",
      "Epoch 5/10\n",
      "375/375 [==============================] - ETA: 0s - loss: 0.0370 - accuracy: 0.9881\n",
      "Epoch 5: val_accuracy improved from 0.99083 to 0.99150, saving model to mnist_classifiction_cnn_model_h5\n"
     ]
    },
    {
     "name": "stderr",
     "output_type": "stream",
     "text": [
      "WARNING:absl:Found untraced functions such as _jit_compiled_convolution_op, _jit_compiled_convolution_op, _jit_compiled_convolution_op, _jit_compiled_convolution_op while saving (showing 4 of 4). These functions will not be directly callable after loading.\n"
     ]
    },
    {
     "name": "stdout",
     "output_type": "stream",
     "text": [
      "INFO:tensorflow:Assets written to: mnist_classifiction_cnn_model_h5\\assets\n"
     ]
    },
    {
     "name": "stderr",
     "output_type": "stream",
     "text": [
      "INFO:tensorflow:Assets written to: mnist_classifiction_cnn_model_h5\\assets\n"
     ]
    },
    {
     "name": "stdout",
     "output_type": "stream",
     "text": [
      "375/375 [==============================] - 34s 89ms/step - loss: 0.0370 - accuracy: 0.9881 - val_loss: 0.0282 - val_accuracy: 0.9915\n",
      "Epoch 6/10\n",
      "375/375 [==============================] - ETA: 0s - loss: 0.0306 - accuracy: 0.9905\n",
      "Epoch 6: val_accuracy improved from 0.99150 to 0.99208, saving model to mnist_classifiction_cnn_model_h5\n"
     ]
    },
    {
     "name": "stderr",
     "output_type": "stream",
     "text": [
      "WARNING:absl:Found untraced functions such as _jit_compiled_convolution_op, _jit_compiled_convolution_op, _jit_compiled_convolution_op, _jit_compiled_convolution_op while saving (showing 4 of 4). These functions will not be directly callable after loading.\n"
     ]
    },
    {
     "name": "stdout",
     "output_type": "stream",
     "text": [
      "INFO:tensorflow:Assets written to: mnist_classifiction_cnn_model_h5\\assets\n"
     ]
    },
    {
     "name": "stderr",
     "output_type": "stream",
     "text": [
      "INFO:tensorflow:Assets written to: mnist_classifiction_cnn_model_h5\\assets\n"
     ]
    },
    {
     "name": "stdout",
     "output_type": "stream",
     "text": [
      "375/375 [==============================] - 34s 90ms/step - loss: 0.0306 - accuracy: 0.9905 - val_loss: 0.0255 - val_accuracy: 0.9921\n",
      "Epoch 7/10\n",
      "375/375 [==============================] - ETA: 0s - loss: 0.0284 - accuracy: 0.9909\n",
      "Epoch 7: val_accuracy did not improve from 0.99208\n",
      "375/375 [==============================] - 33s 87ms/step - loss: 0.0284 - accuracy: 0.9909 - val_loss: 0.0300 - val_accuracy: 0.9914\n",
      "Epoch 8/10\n",
      "375/375 [==============================] - ETA: 0s - loss: 0.0264 - accuracy: 0.9919\n",
      "Epoch 8: val_accuracy did not improve from 0.99208\n",
      "375/375 [==============================] - 33s 87ms/step - loss: 0.0264 - accuracy: 0.9919 - val_loss: 0.0396 - val_accuracy: 0.9872\n",
      "Epoch 9/10\n",
      "375/375 [==============================] - ETA: 0s - loss: 0.0232 - accuracy: 0.9926\n",
      "Epoch 9: val_accuracy did not improve from 0.99208\n",
      "375/375 [==============================] - 32s 86ms/step - loss: 0.0232 - accuracy: 0.9926 - val_loss: 0.0255 - val_accuracy: 0.9918\n",
      "Epoch 10/10\n",
      "375/375 [==============================] - ETA: 0s - loss: 0.0205 - accuracy: 0.9931\n",
      "Epoch 10: val_accuracy improved from 0.99208 to 0.99300, saving model to mnist_classifiction_cnn_model_h5\n"
     ]
    },
    {
     "name": "stderr",
     "output_type": "stream",
     "text": [
      "WARNING:absl:Found untraced functions such as _jit_compiled_convolution_op, _jit_compiled_convolution_op, _jit_compiled_convolution_op, _jit_compiled_convolution_op while saving (showing 4 of 4). These functions will not be directly callable after loading.\n"
     ]
    },
    {
     "name": "stdout",
     "output_type": "stream",
     "text": [
      "INFO:tensorflow:Assets written to: mnist_classifiction_cnn_model_h5\\assets\n"
     ]
    },
    {
     "name": "stderr",
     "output_type": "stream",
     "text": [
      "INFO:tensorflow:Assets written to: mnist_classifiction_cnn_model_h5\\assets\n"
     ]
    },
    {
     "name": "stdout",
     "output_type": "stream",
     "text": [
      "375/375 [==============================] - 34s 90ms/step - loss: 0.0205 - accuracy: 0.9931 - val_loss: 0.0237 - val_accuracy: 0.9930\n"
     ]
    }
   ],
   "source": [
    "#Modelimizi eğitiyoruz(.fit fonksiyonu ile)\n",
    "\n",
    "history = model.fit(X_train, y_train_split, validation_data=(X_val, y_val),\n",
    "                  batch_size=128, epochs=10,  callbacks=model_checkpoint)"
   ]
  },
  {
   "cell_type": "code",
   "execution_count": 61,
   "id": "2b676741-bbc3-424b-9fa2-3b974afaad2e",
   "metadata": {},
   "outputs": [
    {
     "name": "stdout",
     "output_type": "stream",
     "text": [
      "Test işlemi için değerşnedirme yapılıyor\n",
      "313/313 [==============================] - 3s 8ms/step - loss: 0.0183 - accuracy: 0.9938\n",
      "Modelin Loss performansı = 0.018285736441612244\n",
      "Modelin Accuracy (Doğruluk Başarısı) Performansı = 0.9937999844551086\n"
     ]
    }
   ],
   "source": [
    "print(\"Test işlemi için değerşnedirme yapılıyor\")\n",
    "\n",
    "test_loss, test_accuracy = model.evaluate(x_test, y_test)\n",
    "\n",
    "print(f\"Modelin Loss performansı = {test_loss}\")\n",
    "print(f\"Modelin Accuracy (Doğruluk Başarısı) Performansı = {test_accuracy}\")"
   ]
  },
  {
   "cell_type": "code",
   "execution_count": null,
   "id": "1cf30ff0-20ec-4cba-93f5-17f1a161e2c7",
   "metadata": {},
   "outputs": [],
   "source": []
  }
 ],
 "metadata": {
  "kernelspec": {
   "display_name": "env_bst",
   "language": "python",
   "name": "env_bst"
  },
  "language_info": {
   "codemirror_mode": {
    "name": "ipython",
    "version": 3
   },
   "file_extension": ".py",
   "mimetype": "text/x-python",
   "name": "python",
   "nbconvert_exporter": "python",
   "pygments_lexer": "ipython3",
   "version": "3.10.10"
  }
 },
 "nbformat": 4,
 "nbformat_minor": 5
}
